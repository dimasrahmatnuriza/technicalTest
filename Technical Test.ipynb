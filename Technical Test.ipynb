{
 "cells": [
  {
   "cell_type": "markdown",
   "id": "f2c3cb35-66cb-45c3-8c3f-40bc6eeb76c8",
   "metadata": {},
   "source": [
    "# Question 1. \n",
    "Fetch data from https://reqres.in/api/users and create list of dicts. dicts contains id, email, first_name"
   ]
  },
  {
   "cell_type": "code",
   "execution_count": 1,
   "id": "86f301fe-7c8d-4cd1-9b3d-e61d454eed6c",
   "metadata": {},
   "outputs": [],
   "source": [
    "import requests\n",
    "import pandas as pd"
   ]
  },
  {
   "cell_type": "code",
   "execution_count": 2,
   "id": "f057edfa-6657-478d-bd29-dcfee09a33fd",
   "metadata": {},
   "outputs": [
    {
     "name": "stdout",
     "output_type": "stream",
     "text": [
      "{'id': 1, 'email': 'george.bluth@reqres.in', 'first_name': 'George'}\n",
      "{'id': 2, 'email': 'janet.weaver@reqres.in', 'first_name': 'Janet'}\n",
      "{'id': 3, 'email': 'emma.wong@reqres.in', 'first_name': 'Emma'}\n",
      "{'id': 4, 'email': 'eve.holt@reqres.in', 'first_name': 'Eve'}\n",
      "{'id': 5, 'email': 'charles.morris@reqres.in', 'first_name': 'Charles'}\n",
      "{'id': 6, 'email': 'tracey.ramos@reqres.in', 'first_name': 'Tracey'}\n"
     ]
    }
   ],
   "source": [
    "url = \"https://reqres.in/api/users\"\n",
    "response = requests.get(url)\n",
    "\n",
    "if response.status_code == 200:\n",
    "    data = response.json()\n",
    "    users = data[\"data\"]\n",
    "\n",
    "    user_list = []\n",
    "    for user in users:\n",
    "        user_dict = {\n",
    "            \"id\": user[\"id\"],\n",
    "            \"email\": user[\"email\"],\n",
    "            \"first_name\": user[\"first_name\"]\n",
    "        }\n",
    "        user_list.append(user_dict)\n",
    "\n",
    "    for user in user_list:\n",
    "        print(user)\n",
    "\n",
    "else:\n",
    "    print(\"Failed to retrieve data from the API.\")"
   ]
  },
  {
   "cell_type": "code",
   "execution_count": 3,
   "id": "32aff8cf-ab23-44ed-ba27-5a6c29a39cea",
   "metadata": {},
   "outputs": [
    {
     "data": {
      "text/html": [
       "<div>\n",
       "<style scoped>\n",
       "    .dataframe tbody tr th:only-of-type {\n",
       "        vertical-align: middle;\n",
       "    }\n",
       "\n",
       "    .dataframe tbody tr th {\n",
       "        vertical-align: top;\n",
       "    }\n",
       "\n",
       "    .dataframe thead th {\n",
       "        text-align: right;\n",
       "    }\n",
       "</style>\n",
       "<table border=\"1\" class=\"dataframe\">\n",
       "  <thead>\n",
       "    <tr style=\"text-align: right;\">\n",
       "      <th></th>\n",
       "      <th>id</th>\n",
       "      <th>email</th>\n",
       "      <th>first_name</th>\n",
       "    </tr>\n",
       "  </thead>\n",
       "  <tbody>\n",
       "    <tr>\n",
       "      <th>0</th>\n",
       "      <td>1</td>\n",
       "      <td>george.bluth@reqres.in</td>\n",
       "      <td>George</td>\n",
       "    </tr>\n",
       "    <tr>\n",
       "      <th>1</th>\n",
       "      <td>2</td>\n",
       "      <td>janet.weaver@reqres.in</td>\n",
       "      <td>Janet</td>\n",
       "    </tr>\n",
       "    <tr>\n",
       "      <th>2</th>\n",
       "      <td>3</td>\n",
       "      <td>emma.wong@reqres.in</td>\n",
       "      <td>Emma</td>\n",
       "    </tr>\n",
       "    <tr>\n",
       "      <th>3</th>\n",
       "      <td>4</td>\n",
       "      <td>eve.holt@reqres.in</td>\n",
       "      <td>Eve</td>\n",
       "    </tr>\n",
       "    <tr>\n",
       "      <th>4</th>\n",
       "      <td>5</td>\n",
       "      <td>charles.morris@reqres.in</td>\n",
       "      <td>Charles</td>\n",
       "    </tr>\n",
       "  </tbody>\n",
       "</table>\n",
       "</div>"
      ],
      "text/plain": [
       "   id                     email first_name\n",
       "0   1    george.bluth@reqres.in     George\n",
       "1   2    janet.weaver@reqres.in      Janet\n",
       "2   3       emma.wong@reqres.in       Emma\n",
       "3   4        eve.holt@reqres.in        Eve\n",
       "4   5  charles.morris@reqres.in    Charles"
      ]
     },
     "execution_count": 3,
     "metadata": {},
     "output_type": "execute_result"
    }
   ],
   "source": [
    "df = pd.DataFrame(user_list)\n",
    "df.head()"
   ]
  },
  {
   "cell_type": "markdown",
   "id": "7e28bd8a-eb6f-472c-b2da-d2b4b4b7f76a",
   "metadata": {},
   "source": [
    "# Question 2.\n",
    "Fetch data from https://reqres.in/api/users and create list of dicts. dicts contains id, email,  first_nameQuestion 2.\n",
    "Initialize dictionary with default values \n",
    "\n",
    "Given:\n",
    "employees = ['Kelly', 'Emma', 'John']\n",
    "defaults = {\"designation\": 'Application Developer', \"salary\": 8000}"
   ]
  },
  {
   "cell_type": "code",
   "execution_count": 4,
   "id": "372a48eb-33d0-4c1a-b761-806e0d845c21",
   "metadata": {},
   "outputs": [
    {
     "data": {
      "text/plain": [
       "{'Kelly': {'designation': 'Application Developer', 'salary': 8000},\n",
       " 'Emma': {'designation': 'Application Developer', 'salary': 8000},\n",
       " 'John': {'designation': 'Application Developer', 'salary': 8000}}"
      ]
     },
     "execution_count": 4,
     "metadata": {},
     "output_type": "execute_result"
    }
   ],
   "source": [
    "employees = ['Kelly', 'Emma', 'John']\n",
    "defaults = {\"designation\": 'Application Developer', \"salary\": 8000}\n",
    "\n",
    "initialized_dict = {}\n",
    "for employee in employees:\n",
    "    initialized_dict[employee] = defaults\n",
    "\n",
    "initialized_dict\n"
   ]
  },
  {
   "cell_type": "markdown",
   "id": "427d8cde-f9da-47b9-9d55-f2f4c3582abd",
   "metadata": {},
   "source": [
    "# Question 3.\n",
    "Merge following two Python dictionaries into one  dict1 = {'Ten': 10, 'Twenty': 20, 'Thirty': 30}\n",
    "dict2 = {'Thirty': 30, 'Fourty': 40, 'Fifty': 50}\n",
    "\n",
    "Expected output:\n",
    "{'Ten': 10, 'Twenty': 20, 'Thirty': 30, 'Fourty': 40, 'Fifty': 50}"
   ]
  },
  {
   "cell_type": "markdown",
   "id": "4f97381e-b7f0-438b-a192-6b173e473506",
   "metadata": {},
   "source": [
    "# Metode 1 "
   ]
  },
  {
   "cell_type": "code",
   "execution_count": 5,
   "id": "884dfbe8-21b8-4673-b96e-732367f554f1",
   "metadata": {},
   "outputs": [
    {
     "name": "stdout",
     "output_type": "stream",
     "text": [
      "{'Ten': 10, 'Twenty': 20, 'Thirty': 30, 'Fourty': 40, 'Fifty': 50}\n"
     ]
    }
   ],
   "source": [
    "dict1 = {'Ten': 10, 'Twenty': 20, 'Thirty': 30}\n",
    "dict2 = {'Thirty': 30, 'Fourty': 40, 'Fifty': 50}\n",
    "\n",
    "dict1.update(dict2)\n",
    "\n",
    "print(dict1)"
   ]
  },
  {
   "cell_type": "markdown",
   "id": "c85db10c-43b9-4113-90ce-1008dc7111c2",
   "metadata": {},
   "source": [
    "# Metode 2"
   ]
  },
  {
   "cell_type": "code",
   "execution_count": 6,
   "id": "d66546d2-edd1-4e44-baec-1de5e0c1018a",
   "metadata": {},
   "outputs": [
    {
     "name": "stdout",
     "output_type": "stream",
     "text": [
      "{'Ten': 10, 'Twenty': 20, 'Thirty': 30, 'Fourty': 40, 'Fifty': 50}\n"
     ]
    }
   ],
   "source": [
    "dict1 = {'Ten': 10, 'Twenty': 20, 'Thirty': 30}\n",
    "dict2 = {'Thirty': 30, 'Fourty': 40, 'Fifty': 50}\n",
    "\n",
    "merged_dict = {**dict1, **dict2}\n",
    "\n",
    "print(merged_dict)"
   ]
  },
  {
   "cell_type": "markdown",
   "id": "0c3ceb49-f0d9-454e-936a-3d8745378a60",
   "metadata": {},
   "source": [
    "# Question 4\n",
    "Given a collection of intervals, merge all overlapping intervals. For example:\n",
    "\n",
    "Given [1,3],[2,6],[8,10],[15,18],\n",
    "return [1,6],[8,10],[15,18].\n",
    "\n",
    "Make sure the returned intervals are sorted.\n"
   ]
  },
  {
   "cell_type": "code",
   "execution_count": 7,
   "id": "91df7854-03db-4857-a47f-2c42526d1863",
   "metadata": {},
   "outputs": [
    {
     "name": "stdout",
     "output_type": "stream",
     "text": [
      "[[1, 6], [8, 10], [15, 18]]\n"
     ]
    }
   ],
   "source": [
    "def merge_intervals(intervals):\n",
    "    merged_intervals = []\n",
    "    \n",
    "    sorted_intervals = sorted(intervals, key=lambda x: x[0])\n",
    "    merged_intervals.append(sorted_intervals[0])\n",
    "    \n",
    "    for interval in sorted_intervals[1:]:\n",
    "        if interval[0] <= merged_intervals[-1][1]:\n",
    "            merged_intervals[-1][1] = max(interval[1], merged_intervals[-1][1])\n",
    "        else:\n",
    "            merged_intervals.append(interval)\n",
    "    \n",
    "    return merged_intervals\n",
    "\n",
    "\n",
    "intervals = [[1, 3], [2, 6], [8, 10], [15, 18]]\n",
    "merged = merge_intervals(intervals)\n",
    "\n",
    "print(merged)\n"
   ]
  },
  {
   "cell_type": "code",
   "execution_count": null,
   "id": "edcfd1c0-071d-4b90-995c-00d34522afc3",
   "metadata": {},
   "outputs": [],
   "source": []
  }
 ],
 "metadata": {
  "kernelspec": {
   "display_name": "Python 3 (ipykernel)",
   "language": "python",
   "name": "python3"
  },
  "language_info": {
   "codemirror_mode": {
    "name": "ipython",
    "version": 3
   },
   "file_extension": ".py",
   "mimetype": "text/x-python",
   "name": "python",
   "nbconvert_exporter": "python",
   "pygments_lexer": "ipython3",
   "version": "3.10.9"
  }
 },
 "nbformat": 4,
 "nbformat_minor": 5
}
